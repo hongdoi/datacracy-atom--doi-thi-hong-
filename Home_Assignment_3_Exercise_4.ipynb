{
  "nbformat": 4,
  "nbformat_minor": 0,
  "metadata": {
    "colab": {
      "name": "Home Assignment #3 - Exercise 4",
      "provenance": [],
      "authorship_tag": "ABX9TyP5EH58pgxwqInNRXg6FaaB",
      "include_colab_link": true
    },
    "kernelspec": {
      "name": "python3",
      "display_name": "Python 3"
    },
    "language_info": {
      "name": "python"
    }
  },
  "cells": [
    {
      "cell_type": "markdown",
      "metadata": {
        "id": "view-in-github",
        "colab_type": "text"
      },
      "source": [
        "<a href=\"https://colab.research.google.com/github/hongdoi/datacracy-atom--doi-thi-hong-/blob/assignment-3/Home_Assignment_3_Exercise_4.ipynb\" target=\"_parent\"><img src=\"https://colab.research.google.com/assets/colab-badge.svg\" alt=\"Open In Colab\"/></a>"
      ]
    },
    {
      "cell_type": "code",
      "metadata": {
        "colab": {
          "base_uri": "https://localhost:8080/"
        },
        "id": "78nUjZxc4cyx",
        "outputId": "0d029b7c-91ae-4dcd-c195-77ffb1ff5aca"
      },
      "source": [
        "#1 Second Element\n",
        "def select_second(L):\n",
        "    \"\"\"Return the second element of the given list. \n",
        "    If the list has no second element, return None.\n",
        "    \"\"\"\n",
        "    if len(L) >= 2:\n",
        "        return L[1]\n",
        "    else:\n",
        "        return \"None\"\n",
        "select_second([1,2,3])"
      ],
      "execution_count": null,
      "outputs": [
        {
          "output_type": "execute_result",
          "data": {
            "text/plain": [
              "2"
            ]
          },
          "metadata": {
            "tags": []
          },
          "execution_count": 14
        }
      ]
    },
    {
      "cell_type": "code",
      "metadata": {
        "colab": {
          "base_uri": "https://localhost:8080/",
          "height": 35
        },
        "id": "FYt5xKcnA-2i",
        "outputId": "acd6b46c-37d0-40d7-9165-8edbd134c085"
      },
      "source": [
        "# 2. Captain of the Worst Team\n",
        "def losing_team_captain (teams):\n",
        "   return teams[1][1] \n",
        "losing_team_captain([['coach', 'captain', 'a','b'],['coach1', 'captain1', 'c', 'd']])"
      ],
      "execution_count": null,
      "outputs": [
        {
          "output_type": "execute_result",
          "data": {
            "application/vnd.google.colaboratory.intrinsic+json": {
              "type": "string"
            },
            "text/plain": [
              "'captain1'"
            ]
          },
          "metadata": {
            "tags": []
          },
          "execution_count": 25
        }
      ]
    },
    {
      "cell_type": "code",
      "metadata": {
        "colab": {
          "base_uri": "https://localhost:8080/"
        },
        "id": "0WsAuhosHfLs",
        "outputId": "73ac1a9e-eadc-4fbb-e98f-f4041c426112"
      },
      "source": [
        "# 3. Purple Shell item\n",
        "def purple_shell (racers):\n",
        "  r = racers[0]\n",
        "  racers[0] = racers[-1]\n",
        "  racers[-1] = r\n",
        "  return racers\n",
        "purple_shell(['Mario', 'Bowser', 'Luigi'])"
      ],
      "execution_count": null,
      "outputs": [
        {
          "output_type": "execute_result",
          "data": {
            "text/plain": [
              "['Luigi', 'Bowser', 'Mario']"
            ]
          },
          "metadata": {
            "tags": []
          },
          "execution_count": 38
        }
      ]
    },
    {
      "cell_type": "code",
      "metadata": {
        "id": "ygG2KsRNMK5k"
      },
      "source": [
        "# 4. Guess the Length!\n",
        "a = [1, 2, 3]\n",
        "b = [1, [2, 3]]\n",
        "c = []\n",
        "d = [1, 2, 3][1:]\n",
        "lengths = [3,3,0,2]"
      ],
      "execution_count": null,
      "outputs": []
    },
    {
      "cell_type": "code",
      "metadata": {
        "colab": {
          "base_uri": "https://localhost:8080/"
        },
        "id": "x2MBTxqYM62Q",
        "outputId": "fb844860-fa90-4903-f35e-f7f7a47c27b3"
      },
      "source": [
        "def fashionably_late(arrivals, name):\n",
        "  guest_index = arrivals.index(name)\n",
        "  if guest_index > len(arrivals)/2: \n",
        "    print('Fashionably late:', name)\n",
        "  else:\n",
        "    print('Not late')\n",
        "fashionably_late(['Adela', 'Fleda', 'Owen', 'May', 'Mona', 'Gilbert', 'Ford'],'Ford')"
      ],
      "execution_count": null,
      "outputs": [
        {
          "output_type": "stream",
          "text": [
            "Fashionably late: Ford\n"
          ],
          "name": "stdout"
        }
      ]
    }
  ]
}