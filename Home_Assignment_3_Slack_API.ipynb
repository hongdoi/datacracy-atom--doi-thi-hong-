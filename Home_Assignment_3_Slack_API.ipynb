{
  "nbformat": 4,
  "nbformat_minor": 0,
  "metadata": {
    "colab": {
      "name": "Home Assignment #3 - Slack API",
      "provenance": [],
      "authorship_tag": "ABX9TyPHAIJE5Th1kXsA/lkezwID",
      "include_colab_link": true
    },
    "kernelspec": {
      "name": "python3",
      "display_name": "Python 3"
    },
    "language_info": {
      "name": "python"
    }
  },
  "cells": [
    {
      "cell_type": "markdown",
      "metadata": {
        "id": "view-in-github",
        "colab_type": "text"
      },
      "source": [
        "<a href=\"https://colab.research.google.com/github/hongdoi/datacracy-atom--doi-thi-hong-/blob/assignment-3/Home_Assignment_3_Slack_API.ipynb\" target=\"_parent\"><img src=\"https://colab.research.google.com/assets/colab-badge.svg\" alt=\"Open In Colab\"/></a>"
      ]
    },
    {
      "cell_type": "code",
      "metadata": {
        "id": "yLbKYxH6oSFu"
      },
      "source": [
        "import requests #-> Để gọi API\n",
        "import re #-> Để xử lý data dạng string\n",
        "from datetime import datetime as dt #-> Để xử lý data dạng datetime\n",
        "import gspread #-> Để update data lên Google Spreadsheet\n",
        "from gspread_dataframe import set_with_dataframe #-> Để update data lên Google Spreadsheet\n",
        "import pandas as pd #-> Để update data dạng bản\n",
        "import json \n",
        "from oauth2client.service_account import ServiceAccountCredentials #-> Để nhập Google Spreadsheet Credentials\n",
        "import os"
      ],
      "execution_count": null,
      "outputs": []
    },
    {
      "cell_type": "code",
      "metadata": {
        "colab": {
          "base_uri": "https://localhost:8080/"
        },
        "id": "c14sMhMDpGAu",
        "outputId": "a9e15f13-bd4f-470e-d536-9c014372bc0a"
      },
      "source": [
        "!ls"
      ],
      "execution_count": null,
      "outputs": [
        {
          "output_type": "stream",
          "text": [
            "env_variable_slack.json  sample_data\n"
          ],
          "name": "stdout"
        }
      ]
    },
    {
      "cell_type": "code",
      "metadata": {
        "id": "WshsH-bFpJ1w"
      },
      "source": [
        "with open('env_variable_slack.json', 'r') as j:\n",
        "    json_data = json.load(j)\n",
        "    # print(json_data)"
      ],
      "execution_count": null,
      "outputs": []
    },
    {
      "cell_type": "code",
      "metadata": {
        "id": "8G_Wz47epS9Z"
      },
      "source": [
        "## Load SLACK_BEARER_TOKEN\n",
        "os.environ['SLACK_BEARER_TOKEN'] = json_data['SLACK_BEARER_TOKEN']"
      ],
      "execution_count": null,
      "outputs": []
    },
    {
      "cell_type": "code",
      "metadata": {
        "id": "YuQAj_FAegWd"
      },
      "source": [
        "## Gọi API từ Endpoints (Input - Token được đưa vào Headers)\n",
        "## Challenge: Thử gọi API này bằng Postman\n",
        "endpoint = \"https://slack.com/api/users.list\"\n",
        "headers = {\"Authorization\": \"Bearer {}\".format(os.environ['SLACK_BEARER_TOKEN'])}\n",
        "response_json = requests.post(endpoint, headers=headers).json() \n",
        "user_dat = response_json['members']"
      ],
      "execution_count": null,
      "outputs": []
    },
    {
      "cell_type": "code",
      "metadata": {
        "id": "oamup8ZBemGh"
      },
      "source": [
        "## Loop qua JSON file và extract các thông tin quan trọng (id, name, display_name, real_name_normalized, title, phone, is_bot)\n",
        "## Hint: Bạn có thể dùng Postman hoặc in user_dat JSON để xem cấu trúc (schema), dùng Ctrl+F để tìm các keys (id, name, display_name, real_name_normalized, title, phone, is_bot)\n",
        "user_dict = {'user_id':[], 'name':[], 'display_name':[],'real_name':[],'title':[],'phone':[],'is_bot':[]}\n",
        "for i in range(len(user_dat)):\n",
        "  user_dict['user_id'].append(user_dat[i]['id'])\n",
        "  user_dict['name'].append(user_dat[i]['name'])\n",
        "  user_dict['display_name'].append(user_dat[i]['profile']['display_name'])\n",
        "  user_dict['real_name'].append(user_dat[i]['profile']['real_name_normalized'])\n",
        "  user_dict['title'].append(user_dat[i]['profile']['title'])\n",
        "  user_dict['phone'].append(user_dat[i]['profile']['phone'])\n",
        "  user_dict['is_bot'].append(user_dat[i]['is_bot'])\n",
        "  "
      ],
      "execution_count": null,
      "outputs": []
    },
    {
      "cell_type": "code",
      "metadata": {
        "colab": {
          "base_uri": "https://localhost:8080/",
          "height": 204
        },
        "id": "t1Ky2qNEewbb",
        "outputId": "abb73c02-24c4-4ff1-bc1d-d24f98df38f8"
      },
      "source": [
        "user_df = pd.DataFrame(user_dict) ## Dùng pandas để convert dictionaries thành bảng\n",
        "user_df.head(5) ## Chỉ in 5 dòng đầu (chủ yếu để xem cấu trúc)"
      ],
      "execution_count": null,
      "outputs": [
        {
          "output_type": "execute_result",
          "data": {
            "text/html": [
              "<div>\n",
              "<style scoped>\n",
              "    .dataframe tbody tr th:only-of-type {\n",
              "        vertical-align: middle;\n",
              "    }\n",
              "\n",
              "    .dataframe tbody tr th {\n",
              "        vertical-align: top;\n",
              "    }\n",
              "\n",
              "    .dataframe thead th {\n",
              "        text-align: right;\n",
              "    }\n",
              "</style>\n",
              "<table border=\"1\" class=\"dataframe\">\n",
              "  <thead>\n",
              "    <tr style=\"text-align: right;\">\n",
              "      <th></th>\n",
              "      <th>user_id</th>\n",
              "      <th>name</th>\n",
              "      <th>display_name</th>\n",
              "      <th>real_name</th>\n",
              "      <th>title</th>\n",
              "      <th>phone</th>\n",
              "      <th>is_bot</th>\n",
              "    </tr>\n",
              "  </thead>\n",
              "  <tbody>\n",
              "    <tr>\n",
              "      <th>0</th>\n",
              "      <td>USLACKBOT</td>\n",
              "      <td>slackbot</td>\n",
              "      <td>Slackbot</td>\n",
              "      <td>Slackbot</td>\n",
              "      <td></td>\n",
              "      <td></td>\n",
              "      <td>False</td>\n",
              "    </tr>\n",
              "    <tr>\n",
              "      <th>1</th>\n",
              "      <td>U01AT4T75JB</td>\n",
              "      <td>loclexuan26392</td>\n",
              "      <td>Loc Le Xuan</td>\n",
              "      <td>Loc Le Xuan</td>\n",
              "      <td></td>\n",
              "      <td></td>\n",
              "      <td>False</td>\n",
              "    </tr>\n",
              "    <tr>\n",
              "      <th>2</th>\n",
              "      <td>U01AVDY7JET</td>\n",
              "      <td>locle.ds</td>\n",
              "      <td>Loc Le Xuan</td>\n",
              "      <td>Loc Le Xuan</td>\n",
              "      <td></td>\n",
              "      <td></td>\n",
              "      <td>False</td>\n",
              "    </tr>\n",
              "    <tr>\n",
              "      <th>3</th>\n",
              "      <td>U01BE2PR6LU</td>\n",
              "      <td>maianhdang.ftu</td>\n",
              "      <td>MAD</td>\n",
              "      <td>Dặng Huỳnh Mai Anh</td>\n",
              "      <td>Technical Contents</td>\n",
              "      <td></td>\n",
              "      <td>False</td>\n",
              "    </tr>\n",
              "    <tr>\n",
              "      <th>4</th>\n",
              "      <td>U01C48T7S1J</td>\n",
              "      <td>huyenhoang.design</td>\n",
              "      <td>Thanh Huyen Hoang</td>\n",
              "      <td>Thanh Huyen Hoang</td>\n",
              "      <td></td>\n",
              "      <td></td>\n",
              "      <td>False</td>\n",
              "    </tr>\n",
              "  </tbody>\n",
              "</table>\n",
              "</div>"
            ],
            "text/plain": [
              "       user_id               name  ... phone is_bot\n",
              "0    USLACKBOT           slackbot  ...        False\n",
              "1  U01AT4T75JB     loclexuan26392  ...        False\n",
              "2  U01AVDY7JET           locle.ds  ...        False\n",
              "3  U01BE2PR6LU     maianhdang.ftu  ...        False\n",
              "4  U01C48T7S1J  huyenhoang.design  ...        False\n",
              "\n",
              "[5 rows x 7 columns]"
            ]
          },
          "metadata": {
            "tags": []
          },
          "execution_count": 38
        }
      ]
    },
    {
      "cell_type": "code",
      "metadata": {
        "colab": {
          "base_uri": "https://localhost:8080/",
          "height": 80
        },
        "id": "H_5Ysp8Ae6rv",
        "outputId": "2d16a334-fee9-457c-fe5d-8dda9329c0e4"
      },
      "source": [
        "user_df[user_df.display_name == 'MAD'] ## Lọc thông tin của MAD, trên DataFrame (bạn có thể Google thêm)"
      ],
      "execution_count": null,
      "outputs": [
        {
          "output_type": "execute_result",
          "data": {
            "text/html": [
              "<div>\n",
              "<style scoped>\n",
              "    .dataframe tbody tr th:only-of-type {\n",
              "        vertical-align: middle;\n",
              "    }\n",
              "\n",
              "    .dataframe tbody tr th {\n",
              "        vertical-align: top;\n",
              "    }\n",
              "\n",
              "    .dataframe thead th {\n",
              "        text-align: right;\n",
              "    }\n",
              "</style>\n",
              "<table border=\"1\" class=\"dataframe\">\n",
              "  <thead>\n",
              "    <tr style=\"text-align: right;\">\n",
              "      <th></th>\n",
              "      <th>user_id</th>\n",
              "      <th>name</th>\n",
              "      <th>display_name</th>\n",
              "      <th>real_name</th>\n",
              "      <th>title</th>\n",
              "      <th>phone</th>\n",
              "      <th>is_bot</th>\n",
              "    </tr>\n",
              "  </thead>\n",
              "  <tbody>\n",
              "    <tr>\n",
              "      <th>3</th>\n",
              "      <td>U01BE2PR6LU</td>\n",
              "      <td>maianhdang.ftu</td>\n",
              "      <td>MAD</td>\n",
              "      <td>Dặng Huỳnh Mai Anh</td>\n",
              "      <td>Technical Contents</td>\n",
              "      <td></td>\n",
              "      <td>False</td>\n",
              "    </tr>\n",
              "  </tbody>\n",
              "</table>\n",
              "</div>"
            ],
            "text/plain": [
              "       user_id            name display_name  ...               title phone is_bot\n",
              "3  U01BE2PR6LU  maianhdang.ftu          MAD  ...  Technical Contents        False\n",
              "\n",
              "[1 rows x 7 columns]"
            ]
          },
          "metadata": {
            "tags": []
          },
          "execution_count": 39
        }
      ]
    }
  ]
}