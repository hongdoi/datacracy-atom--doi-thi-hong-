{
  "nbformat": 4,
  "nbformat_minor": 0,
  "metadata": {
    "colab": {
      "name": "Home Assignment #3 - Exercise 02 ",
      "provenance": [],
      "authorship_tag": "ABX9TyOF+hbWj46nmSPkDE/ByTpt",
      "include_colab_link": true
    },
    "kernelspec": {
      "name": "python3",
      "display_name": "Python 3"
    },
    "language_info": {
      "name": "python"
    }
  },
  "cells": [
    {
      "cell_type": "markdown",
      "metadata": {
        "id": "view-in-github",
        "colab_type": "text"
      },
      "source": [
        "<a href=\"https://colab.research.google.com/github/hongdoi/datacracy-atom--doi-thi-hong-/blob/assignment-3/Home_Assignment_3_Exercise_02.ipynb\" target=\"_parent\"><img src=\"https://colab.research.google.com/assets/colab-badge.svg\" alt=\"Open In Colab\"/></a>"
      ]
    },
    {
      "cell_type": "code",
      "metadata": {
        "colab": {
          "base_uri": "https://localhost:8080/"
        },
        "id": "fymQNfEPqp9-",
        "outputId": "252c0436-009b-49cf-fdb4-412983c8f0c6"
      },
      "source": [
        "#1. Complete Your Very First Function\n",
        "def round_to_two_places(num):\n",
        "  round_to_two_places = round (num, 3)\n",
        "  print ('Result:', round_to_two_places)\n",
        "a = round_to_two_places(3.14159)\n",
        "print (a)"
      ],
      "execution_count": null,
      "outputs": [
        {
          "output_type": "stream",
          "text": [
            "Result: 3.142\n",
            "None\n"
          ],
          "name": "stdout"
        }
      ]
    },
    {
      "cell_type": "code",
      "metadata": {
        "colab": {
          "base_uri": "https://localhost:8080/"
        },
        "id": "lbre_gn0zXtz",
        "outputId": "48dbf0b6-0e93-4db1-c22d-7f3240601c55"
      },
      "source": [
        "#2. Explore the Built-in Function\n",
        "round (-3.14159)"
      ],
      "execution_count": null,
      "outputs": [
        {
          "output_type": "execute_result",
          "data": {
            "text/plain": [
              "-3"
            ]
          },
          "metadata": {
            "tags": []
          },
          "execution_count": 53
        }
      ]
    },
    {
      "cell_type": "code",
      "metadata": {
        "colab": {
          "base_uri": "https://localhost:8080/"
        },
        "id": "tOqRAI0s1Dc4",
        "outputId": "81287b24-db15-4311-f4e6-bd7d6726c16a"
      },
      "source": [
        "#3. More Function\n",
        "def to_smash(total_candies):\n",
        "  to_smash = total_candies % 3\n",
        "  return total_candies % 3\n",
        "print ('Smashed candies: ', to_smash (91))"
      ],
      "execution_count": null,
      "outputs": [
        {
          "output_type": "stream",
          "text": [
            "Smashed candies:  1\n"
          ],
          "name": "stdout"
        }
      ]
    },
    {
      "cell_type": "code",
      "metadata": {
        "colab": {
          "base_uri": "https://localhost:8080/"
        },
        "id": "hnBtdm-CZBCI",
        "outputId": "4dd107c5-a94d-4f06-e2ca-78fa7bd08a31"
      },
      "source": [
        "# 4. Taste some Errors\n",
        "round_to_two_places(9.9999)"
      ],
      "execution_count": null,
      "outputs": [
        {
          "output_type": "stream",
          "text": [
            "Result: 10.0\n"
          ],
          "name": "stdout"
        }
      ]
    },
    {
      "cell_type": "code",
      "metadata": {
        "colab": {
          "base_uri": "https://localhost:8080/"
        },
        "id": "Ev7HcJ0haAkd",
        "outputId": "a2462a6c-a5d7-4038-b34d-203f58eae7a7"
      },
      "source": [
        "# 4. Taste some Errors\n",
        "# Which of the two variables above has the smallest absolute value?\n",
        "def min_absolute (x,y):\n",
        "  abs1 = abs(x)\n",
        "  abs2 = abs(y)\n",
        "  return min(abs1, abs2)\n",
        "print (min_absolute(-10,5))"
      ],
      "execution_count": null,
      "outputs": [
        {
          "output_type": "stream",
          "text": [
            "5\n"
          ],
          "name": "stdout"
        }
      ]
    },
    {
      "cell_type": "code",
      "metadata": {
        "colab": {
          "base_uri": "https://localhost:8080/"
        },
        "id": "-lRAo8SKdinU",
        "outputId": "5b050766-a0ce-4bed-9a61-0353e7d3217d"
      },
      "source": [
        "# 4. Taste some Errors\n",
        "def f(x):\n",
        "    y = abs(x)\n",
        "    return y\n",
        "print(f(5))"
      ],
      "execution_count": null,
      "outputs": [
        {
          "output_type": "stream",
          "text": [
            "5\n"
          ],
          "name": "stdout"
        }
      ]
    },
    {
      "cell_type": "code",
      "metadata": {
        "colab": {
          "base_uri": "https://localhost:8080/"
        },
        "id": "aMeMPYiXei2-",
        "outputId": "9c76eccc-5e5b-402d-e8e1-fb9fc7950610"
      },
      "source": [
        "# 5. More and more Functions\n",
        "# Importing the function 'time' from the module of the same name. \n",
        "# (We'll discuss imports in more depth later)\n",
        "\n",
        "from time import time\n",
        "t = time()\n",
        "print(t, \"seconds since the Epoch\")"
      ],
      "execution_count": null,
      "outputs": [
        {
          "output_type": "stream",
          "text": [
            "1621358218.344669 seconds since the Epoch\n"
          ],
          "name": "stdout"
        }
      ]
    },
    {
      "cell_type": "code",
      "metadata": {
        "colab": {
          "base_uri": "https://localhost:8080/"
        },
        "id": "vfxrHJBxe0vq",
        "outputId": "bf0ab4d7-833b-4eba-9edc-6f68ae615193"
      },
      "source": [
        "from time import sleep\n",
        "duration = 5\n",
        "print(\"Getting sleepy. See you in\", duration, \"seconds\")\n",
        "sleep(duration)\n",
        "print(\"I'm back. What did I miss?\")"
      ],
      "execution_count": null,
      "outputs": [
        {
          "output_type": "stream",
          "text": [
            "Getting sleepy. See you in 5 seconds\n",
            "I'm back. What did I miss?\n"
          ],
          "name": "stdout"
        }
      ]
    },
    {
      "cell_type": "code",
      "metadata": {
        "id": "_hm84Spne7-m",
        "colab": {
          "base_uri": "https://localhost:8080/"
        },
        "outputId": "b5255440-0b23-4a83-e2f0-8c2e0822bd6f"
      },
      "source": [
        "from time import time\n",
        "def time_call(fn, arg):\n",
        "    #\"\"\"Return the amount of time the given function takes (in seconds) when called with the given argument.\n",
        "    #\"\"\"\n",
        "    now = time ()\n",
        "    fn(arg)\n",
        "    future = time ()\n",
        "    passed = future - now\n",
        "    return passed\n",
        "time_call (sleep, 20)"
      ],
      "execution_count": null,
      "outputs": [
        {
          "output_type": "execute_result",
          "data": {
            "text/plain": [
              "20.020102977752686"
            ]
          },
          "metadata": {
            "tags": []
          },
          "execution_count": 15
        }
      ]
    },
    {
      "cell_type": "code",
      "metadata": {
        "colab": {
          "base_uri": "https://localhost:8080/",
          "height": 129
        },
        "id": "n6fVa2GuVXwI",
        "outputId": "2be17fa4-96de-481c-e825-64f92b15e939"
      },
      "source": [
        "def slowest_call(fn, arg1, arg2, arg3):\n",
        "    #\"\"\"Return the amount of time taken by the slowest of the following function\n",
        "    #calls: fn(arg1), fn(arg2), fn(arg3)\n",
        "    \n",
        "    #\"\"\"\n",
        "    def time_call(fn, arg1)\n",
        "      now = time ()\n",
        "      fn(arg1)\n",
        "      future = time ()\n",
        "      passed = future - now\n",
        "      return passed\n",
        "    \n",
        "    def time_call(fn, arg2)\n",
        "      now = time ()\n",
        "      fn(arg2)\n",
        "      future = time ()\n",
        "      passed = future - now\n",
        "      return passed\n",
        "\n",
        "    def time_call(fn, arg3)\n",
        "      now = time ()\n",
        "      fn(arg3)\n",
        "      future = time ()\n",
        "      passed = future - now\n",
        "      return passed\n",
        "\n",
        "    return max (time_call(fn, arg1), time_call (fn, arg2), time_call(fn, arg3))\n",
        "\n",
        "slowest_call (sleep,1,2,3)\n",
        "    "
      ],
      "execution_count": null,
      "outputs": [
        {
          "output_type": "error",
          "ename": "SyntaxError",
          "evalue": "ignored",
          "traceback": [
            "\u001b[0;36m  File \u001b[0;32m\"<ipython-input-14-ea9629e25a6f>\"\u001b[0;36m, line \u001b[0;32m6\u001b[0m\n\u001b[0;31m    def time_call(fn, arg1)\u001b[0m\n\u001b[0m                           ^\u001b[0m\n\u001b[0;31mSyntaxError\u001b[0m\u001b[0;31m:\u001b[0m invalid syntax\n"
          ]
        }
      ]
    }
  ]
}