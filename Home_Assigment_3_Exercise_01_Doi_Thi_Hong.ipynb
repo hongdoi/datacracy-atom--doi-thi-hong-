{
  "nbformat": 4,
  "nbformat_minor": 0,
  "metadata": {
    "colab": {
      "name": "Home Assigment #3 - Exercise 01 - Doi Thi Hong",
      "provenance": [],
      "authorship_tag": "ABX9TyMqKiiKDMkMO1WvqH9ZkCY0",
      "include_colab_link": true
    },
    "kernelspec": {
      "name": "python3",
      "display_name": "Python 3"
    },
    "language_info": {
      "name": "python"
    }
  },
  "cells": [
    {
      "cell_type": "markdown",
      "metadata": {
        "id": "view-in-github",
        "colab_type": "text"
      },
      "source": [
        "<a href=\"https://colab.research.google.com/github/hongdoi/datacracy-atom--doi-thi-hong-/blob/main/Home_Assigment_3_Exercise_01_Doi_Thi_Hong.ipynb\" target=\"_parent\"><img src=\"https://colab.research.google.com/assets/colab-badge.svg\" alt=\"Open In Colab\"/></a>"
      ]
    },
    {
      "cell_type": "code",
      "metadata": {
        "colab": {
          "base_uri": "https://localhost:8080/"
        },
        "id": "-H5nbDM-64mX",
        "outputId": "865719a6-d9ce-4bea-9047-6a762268e554"
      },
      "source": [
        "print ('Your are sucessful run some Python code')\n",
        "print ('Congratulations!')"
      ],
      "execution_count": null,
      "outputs": [
        {
          "output_type": "stream",
          "text": [
            "Your ảre sucessful run some Python code\n",
            "Congratulations!\n"
          ],
          "name": "stdout"
        }
      ]
    },
    {
      "cell_type": "code",
      "metadata": {
        "colab": {
          "base_uri": "https://localhost:8080/"
        },
        "id": "2EcN8SA8_oiN",
        "outputId": "306a5c9c-f196-4379-9f6b-7c2aa4886f4c"
      },
      "source": [
        "# Create a variable called color with an appropriate value on the line below\n",
        "# (Remember, strings in Python must be enclosed in 'single' or \"double\" quotes)\n",
        "\n",
        "color = 'white'\n",
        "print ('My favorite color is', color)\n",
        " \n"
      ],
      "execution_count": null,
      "outputs": [
        {
          "output_type": "stream",
          "text": [
            "My favorite color is white\n"
          ],
          "name": "stdout"
        }
      ]
    },
    {
      "cell_type": "code",
      "metadata": {
        "colab": {
          "base_uri": "https://localhost:8080/"
        },
        "id": "LJRxQDYHHE2S",
        "outputId": "d76337d0-df45-4e15-84b5-5da1690b523b"
      },
      "source": [
        "pi = 3.14159  # approximate\n",
        "diameter = 3\n",
        "\n",
        "# Create a variable called 'radius' equal to half the diameter\n",
        "radius = diameter/2\n",
        "\n",
        "# Create a variable called 'area', using the formula for the area of a circle: pi times the radius squared\n",
        "area = pi*radius**2\n",
        "\n",
        "print(area)"
      ],
      "execution_count": null,
      "outputs": [
        {
          "output_type": "stream",
          "text": [
            "7.0685775\n"
          ],
          "name": "stdout"
        }
      ]
    },
    {
      "cell_type": "code",
      "metadata": {
        "colab": {
          "base_uri": "https://localhost:8080/"
        },
        "id": "cLntz7QtIQ4o",
        "outputId": "040c0cb9-4553-41ee-bded-1e927bdfa265"
      },
      "source": [
        "# If you're curious, these are examples of lists. We'll talk about \n",
        "# them in depth a few lessons from now. For now, just know that they're\n",
        "# yet another type of Python object, like int or float.\n",
        "a = [1, 2, 3]\n",
        "b = [3, 2, 1]\n",
        "\n",
        "c= a\n",
        "b= c\n",
        "print (b)\n",
        "\n",
        "\n",
        "# Your code goes here. Swap the values to which a and b refer.\n",
        "# Hint: Try using a third variable"
      ],
      "execution_count": null,
      "outputs": [
        {
          "output_type": "stream",
          "text": [
            "[1, 2, 3]\n"
          ],
          "name": "stdout"
        }
      ]
    },
    {
      "cell_type": "code",
      "metadata": {
        "colab": {
          "base_uri": "https://localhost:8080/"
        },
        "id": "eMEtFih0NIla",
        "outputId": "a3ff7f1e-7a26-49dc-989c-27a7976718ba"
      },
      "source": [
        "(5 - 3) // 2"
      ],
      "execution_count": null,
      "outputs": [
        {
          "output_type": "execute_result",
          "data": {
            "text/plain": [
              "1"
            ]
          },
          "metadata": {
            "tags": []
          },
          "execution_count": 33
        }
      ]
    },
    {
      "cell_type": "code",
      "metadata": {
        "colab": {
          "base_uri": "https://localhost:8080/"
        },
        "id": "1kwd81ZnNRLo",
        "outputId": "72b25be7-9c4a-42f3-9b33-8112fa2016d8"
      },
      "source": [
        "8 - (3 * 2) - (1 + 1)"
      ],
      "execution_count": null,
      "outputs": [
        {
          "output_type": "execute_result",
          "data": {
            "text/plain": [
              "0"
            ]
          },
          "metadata": {
            "tags": []
          },
          "execution_count": 34
        }
      ]
    },
    {
      "cell_type": "code",
      "metadata": {
        "colab": {
          "base_uri": "https://localhost:8080/"
        },
        "id": "TchDGoC0NwKN",
        "outputId": "c273544e-9bc6-4f68-ada6-a8021e9bcb95"
      },
      "source": [
        "# Variables representing the number of candies collected by Alice, Bob, and Carol\n",
        "alice_candies = 121\n",
        "bob_candies = 77\n",
        "carol_candies = 109\n",
        "\n",
        "# Your code goes here! Replace the right-hand side of this assignment with an expression\n",
        "# involving alice_candies, bob_candies, and carol_candies\n",
        "to_smash = -1\n",
        "sum = alice_candies + bob_candies+ carol_candies\n",
        "print (sum)\n",
        "a = sum // 3\n",
        "print ('alice_candies =',a)\n",
        "print ('bob_candies =', a)\n",
        "print ('carol_candies =',a)\n",
        "b = sum % 3\n",
        "print ('To smash =', b)"
      ],
      "execution_count": null,
      "outputs": [
        {
          "output_type": "stream",
          "text": [
            "307\n",
            "alice_candies = 102\n",
            "bob_candies = 102\n",
            "carol_candies = 102\n",
            "To smash = 1\n"
          ],
          "name": "stdout"
        }
      ]
    }
  ]
}